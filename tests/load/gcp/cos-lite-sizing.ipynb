{
  "metadata": {
    "kernelspec": {
      "name": "python",
      "display_name": "Python (Pyodide)",
      "language": "python"
    },
    "language_info": {
      "codemirror_mode": {
        "name": "python",
        "version": 3
      },
      "file_extension": ".py",
      "mimetype": "text/x-python",
      "name": "python",
      "nbconvert_exporter": "python",
      "pygments_lexer": "ipython3",
      "version": "3.8"
    }
  },
  "nbformat_minor": 4,
  "nbformat": 4,
  "cells": [
    {
      "cell_type": "markdown",
      "source": "# VM sizing for COS Lite",
      "metadata": {}
    },
    {
      "cell_type": "markdown",
      "source": "Before we start, we import some preliminary libraries.",
      "metadata": {}
    },
    {
      "cell_type": "code",
      "source": "%pip install -q ipywidgets",
      "metadata": {
        "trusted": true
      },
      "outputs": [],
      "execution_count": 1
    },
    {
      "cell_type": "code",
      "source": "import numpy as np\nfrom matplotlib import pyplot as plt\nfrom scipy import integrate\n\nfrom ipywidgets import interactive, fixed",
      "metadata": {
        "trusted": true
      },
      "outputs": [],
      "execution_count": 2
    },
    {
      "cell_type": "markdown",
      "source": "We will also define the actual solver and plotting routine.",
      "metadata": {}
    },
    {
      "cell_type": "markdown",
      "source": "VM sizing depends on ingestion rate. Currently, we have only two independent variables: loglines per minute, and metric datapoints per minute.\n\nExpressed in matrix notation, it may look like this:\n\n$$\n\\left(\\begin{matrix}\n\\mathrm{cpu} \\\\\n\\mathrm{mem} \\\\\n\\mathrm{disk} \n\\end{matrix}\\right)\n= \\begin{bmatrix}\n\\mathrm{-cpu\\ coeffs-} \\\\ \n\\mathrm{-mem\\ coeffs-} \\\\ \n\\mathrm{-disk\\ coeffs-} \n\\end{bmatrix}\n\\cdot \\left(\\begin{matrix}\n\\mathrm{loglines/min} \\\\\n\\mathrm{datapoints/min}\n\\end{matrix}\\right)\n+ \\left(\\begin{matrix}\n\\mathrm{cos\\ idle\\ cpu} \\\\\n\\mathrm{cos,\\ microk8s\\ idle\\ mem} \\\\\n\\mathrm{non cos\\ disk\\ fill\\ rate} \n\\end{matrix}\\right)\n$$",
      "metadata": {}
    },
    {
      "cell_type": "code",
      "source": "from typing import Tuple\ndef total_estimation_from_per_pod(loglines_per_minute, datapoints_per_minute) -> Tuple[float, float, float]:\n    # Return a 3-tuple: (cpu, mem_gb, storage_gb_per_day).\n\n    # If loglines_per_minute and datapoints_per_minute were scalars, we could have used matrix multiplication:\n    # (cpu, mem, disk) = A.dot(x) + idle_coeffs\n\n    # / cpu [vCPUs]   \\     /  -- cpu coeffs --  \\  / loglines/min   \\     /  cos idle cpu           \\\n    # | mem [GB]      |  =  |  -- mem coeffs --  |  | datapoints/min |  +  |  cos, microk8s idle mem |\n    # \\ disk [GB/day] /     \\  -- disk coeffs -- /  \\                /     \\  host disk fill rate    /\n    #\n    #        y           =             A          *         x           +                b\n    #      [3x1]                     [3x2]                [2x1]                        [3x1]\n\n    # But because they are matrices (from meshgrid), we calculate manually.\n\n    cpu_coeffs = np.array([  # in vCPUs\n        # (a1, b1, c), where cpu = a1*(logline per minutes) + b1 * (datapoints/min) + c\n        [6.84e-6, 0, 0.483],  # loki - contributes to cpu only via loglines\n        [0, 1.08e-7, 0.173],  # prom - contributes to cpu only via metric datapoints\n        [0, 0, 0.25],  # grafana\n        [0, 0, 0.08],  # traefik\n        [0, 0, 0.1],  # host os (microk8s, ...)\n    ]).sum(axis=0)\n\n    mem_coeffs = np.array([  # in GB\n        # (a1, b1, c), where mem = a1*(logline per minutes) + b1 * (datapoints/min)\n        [3.52e-6, 0, 2.07],  # loki\n        [0, 1.47e-6, 0.25],  # prom\n        [0, 0, 0.2],  # grafana\n        [0, 0, 0.2],  # traefik\n        [0, 0, 4],  # host os (microk8s, ...)\n    ]).sum(axis=0)\n\n    # (a1, b1, c), where disk = a1*(logline per minutes) + b1 * (datapoints/min)\n    # From fit - c is 0 because the fit was 1e-12 which is effectively zero.\n    # The initial system size - about 4gb - is eliminated by the derivative (GB/day).\n    disk_coeffs = np.array([3.18e-4, 3.24e-6, 0])  # in GB/day\n\n    return (\n        cpu_coeffs[0] * loglines_per_minute + cpu_coeffs[1] * datapoints_per_minute + cpu_coeffs[2],\n        mem_coeffs[0] * loglines_per_minute + mem_coeffs[1] * datapoints_per_minute + mem_coeffs[2],\n        disk_coeffs[0] * loglines_per_minute + disk_coeffs[1] * datapoints_per_minute + disk_coeffs[2],\n    )",
      "metadata": {
        "trusted": true
      },
      "outputs": [],
      "execution_count": 12
    },
    {
      "cell_type": "code",
      "source": "def plot_total_estimation(num_datapoints: float = None, num_loglines: float = None):\n    xlabel = \"Metrics datapoints / min\"\n    ylabel = \"Log lines / min\"\n\n    datapoints = np.linspace(0, 6e6)  # \"x, datapoints per minute\n    loglines = np.linspace(0, 360e3)  # \"y\", loglines per minute\n    datapoints_mat, loglines_mat = np.meshgrid(datapoints, loglines)\n\n    cpu, mem, disk = total_estimation_from_per_pod(loglines_mat, datapoints_mat)\n\n    fig = plt.figure()\n    ax = fig.add_subplot(1, 1, 1)\n\n    cs1 = ax.contour(datapoints_mat, loglines_mat, cpu, colors=\"red\", linestyles=\"-\", linewidths=1, levels=[1,2,3,4,5,6,7,8])\n    cs2 = ax.contour(datapoints_mat, loglines_mat, mem, colors=\"blue\", linestyles=\"--\", linewidths=1, levels=[2,4,6,8,10,12,14,16])\n    cs3 = ax.contour(datapoints_mat, loglines_mat, disk, colors=\"gray\", linestyles=\"-.\", linewidths=1, levels=[25,50,75,100,125])\n\n    ax.clabel(cs1, inline=True, fontsize=9)\n    ax.clabel(cs2, inline=True, fontsize=9)\n    ax.clabel(cs3, inline=True, fontsize=9)\n\n    ax.grid(linestyle=\"--\")\n    ax.set_title(\"VM size estimation from per-pod data\")\n    ax.set_xlabel(xlabel)\n    ax.set_ylabel(ylabel)\n\n    if num_datapoints is not None and num_loglines is not None:\n        cpu, mem, disk = total_estimation_from_per_pod(num_loglines, num_datapoints)\n        ax.plot(num_datapoints, num_loglines, 'rx')\n        ax.text(num_datapoints, num_loglines, f\"{cpu:.1f} cpu\\n{mem:.1f} gb\\n{disk:.1f} gb/day\")\n\n    plt.show()\n",
      "metadata": {
        "trusted": true
      },
      "outputs": [],
      "execution_count": 51
    },
    {
      "cell_type": "code",
      "source": "w=interactive(plot_total_estimation,num_datapoints=(0.0,6e6),num_loglines=(0.0,350e3))\nw",
      "metadata": {
        "trusted": true
      },
      "outputs": [
        {
          "execution_count": 50,
          "output_type": "execute_result",
          "data": {
            "text/plain": "interactive(children=(FloatSlider(value=3000000.0, description='num_datapoints', max=6000000.0), FloatSlider(v…",
            "application/vnd.jupyter.widget-view+json": {
              "version_major": 2,
              "version_minor": 0,
              "model_id": "08c5752f0c64466d963e8280004cea9c"
            }
          },
          "metadata": {}
        }
      ],
      "execution_count": 50
    }
  ]
}